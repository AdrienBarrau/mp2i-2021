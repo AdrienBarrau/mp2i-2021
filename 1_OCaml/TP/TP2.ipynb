TP 2 : récursivité et conditions
Dans tout le TP, il est interdit d'utiliser des boucles (pas de for ni while).

Rappel : pensez à tester toutes vos fonctions sur des exemples.

Petites questions
Définir une fonction divise telle que divise a b renvoie true si a divise b, false sinon. Il est interdit d'utiliser if.
Définir une fonction récursive somme telle que somme n renvoie  ∑𝑛𝑘=1𝑘2 .
Définir une fonction récursive u telle que u n renvoie  𝑢𝑛  définie par :
𝑢0=42
 
𝑢𝑛=3𝑢𝑛−1⎯⎯⎯⎯⎯⎯⎯√+2
 
Définir une fonction récursive v telle que v a n renvoie  𝑣𝑛  définie par (on fera attention à n'utiliser qu'un appel récursif) :
𝑣0=𝑎
 
𝑣𝑛+1=12(𝑣𝑛+𝑎𝑣𝑛)
 
Calculer v a n pour plusieurs valeurs de a et de n : que peut-on conjecturer sur la limite de  𝑣𝑛  ? Optionnel : le démontrer.
Soient  𝑎  et  𝑏  deux entiers et  𝑞,𝑟  le quotient et reste de la division euclidienne de  𝑎  par  𝑏  ( 𝑎=𝑏𝑞+𝑟 ). En utilisant le fait que  𝑃𝐺𝐶𝐷(𝑎,𝑏)  =  𝑃𝐺𝐶𝐷(𝑏,𝑟) , écrire une fonction euclide telle que euclide a b renvoie le PGCD de  𝑎  et  𝑏 .
​
​
let divise a b=
    b mod a = 0;;
divise 4 8
    
​
val divise : int -> int -> bool = <fun>
- : bool = true
let rec somme n=
    if n=0 then 0
    else somme (n-1)+n*n;;
somme 3
    
val somme : int -> int = <fun>
- : int = 14
let rec u n=
    if n=0. then 42.
    else 3.*.sqrt(u(n-.1.))+.2.;;
u 2.
val u : float -> float = <fun>
- : float = 15.8917241139108523
​
let rec v a n=
​
    if n=0. then a
    else let f = v a (n-.1.) in
    0.5*.(f+.(a/.f));;
v 5. 1.
​
val v : float -> float -> float = <fun>
- : float = 3.
v 9.9 40000.
​
- : float = 3.14642654451045445
let rec euclide a b=
    if b=0 then a
    else
    let r= a mod b in
    euclide b r  ;;
euclide 196 48
    
val euclide : int -> int -> int = <fun>
- : int = 4
Exponentiation rapide
Écrire une fonction récursive puissance naïve (c'est à dire très simple) telle que puissance a n renvoie  𝑎𝑛 . Combien effectue t-elle de multiplications (en fonction de n) ?
Écrire une fonction récursive exp_rapide pour calculer  𝑎𝑛 , en utilisant les relations suivantes :
{𝑎𝑛=(𝑎𝑛2)2         si 𝑛 est pair𝑎𝑛=𝑎×(𝑎𝑛−12)2     sinon
 
Attention : pour mettre au carré, utiliser une variable plutôt que faire 2 appels récursifs, ce qui augmenterait beaucoup le nombre d'opérations.
Remarque : On montrera plus tard que cette 2ème version demande de l'ordre de  ln(𝑛)  multiplications seulement.

let rec puissance a n =
if n=0 then 1 else
(puissance a (n-1)) *a ;;
puissance 2 4
​
val puissance : int -> int -> int = <fun>
- : int = 16
;;
let rec exp_rapide a n=
    if n mod 2 =0 then 
    let p= puissance a n/2 in p*p
    else let p= puissance a (n-1)/2 in a*p*p;;
    
val exp_rapide : int -> int -> int = <fun>
Exception: Sys.Break.
Accumulateur
On a vu dans le cours sur la récursivité (avec l'exemple de la suite de Fibonacci) qu'un accumulateur est un argument que l'on ajoute à une fonction pour calculer sa valeur de retour.

Écrire une fonction fact telle que fact acc n renvoie n!, en utilisant acc comme accumulateur. Voici à quoi va ressemble fact :
let rec fact acc n =
 if n = 0 then acc  (* on renvoie l'accumulateur qui contient le résultat *)
 else fact ... (* appel récursif en modifiant l'accumulateur *)
En utilisant fact et l'application partielle de fonction, définir f : int -> int renvoyant la factoielle d'un entier.
Remarque : le but ici est juste de vous entraîner à savoir utiliser un accumulateur, qui sont parfois utiles (comme pour la fonction fibo du cours). En DS ou concours on évitera d'utiliser un accumulateur lorsqu'il y en a pas besoin (comme pour la fonction fact...), car cela rend le code plus compliqué.

let rec fact acc n =
    if n= 0 then acc 
    else fact (acc*n) (n-1);;
fact 1 3;;
​
val fact : int -> int -> int = <fun>
- : int = 6
let 
let factosansacc = fact 1 ;;
factosansacc 3
val factosansacc : int -> int = <fun>
- : int = 6
Temps de vol de la suite de Syracuse
La suite de Syracuse d'un entier  𝑎  est définie par :
𝑢0=𝑎
 
𝑢𝑛+1={𝑢𝑛2,si 𝑛 est pair3𝑢𝑛+1,sinon
 
Le temps de vol de  (𝑢𝑛)𝑛  est le plus petit entier  𝑡  tel que  𝑢𝑡=1 .

Écrire une fonction récursive temps_vol telle que temps_vol a renvoie le temps de vol de  (𝑢𝑛)𝑛  (où  𝑢0=𝑎 ).
​
let rec temps_vol a=
    if a=1 then 0
    else if a mod 2 =0 then temps_vol (a/2)+1
    else temps_vol (a*3+1)+1;;
temps_vol 10
val temps_vol : int -> int = <fun>
- : int = 6
Fonction mystérieuse
Tester la fonction suivante, conjecturer un théorème et prouvez-le par récurrence.

let rec f n =
    if n > 100 then n - 10 
    else f (f (n + 11)) ;;
​
f 2;;
​
la fonction f vaut 91 pour n<102
Fonctions mutuellement récursives
Il est possible de définir simultanément deux fonctions f et g, dépendant l'une de l'autre avec and :

let rec f x = ... and g y = ... in ...
Écrire deux fonctions u et v permettant de calculer le  𝑛𝑖è𝑚𝑒  terme des suites définies par :
𝑢0=2
 
𝑣0=3
 
𝑢𝑛+1=𝑢𝑛−𝑢𝑛𝑣𝑛
 
𝑣𝑛+1=𝑣𝑛+𝑢𝑛𝑣𝑛
 
Retour sur les tours de Hanoi
Remarque : le problème des tours de Hanoi a déjà été vu en stage, mais on le refait ici en OCaml. En outre, il est utile de réactiver sa mémoire pour se souvenir des méthodes et il m'arrivera pendant l'année de redonner des exercices déjà posés.

Image

𝑛  disques sont posés sur la tige à gauche. L'objectif est de déplacer tous les disques sur la tige à droite :

Image

Règles du jeu :

On ne peut déplacer qu'un disque à la fois (celui tout en haut), sur une autre tige.
Il est interdit de poser un disque sur un autre plus petit.
Exemple de premier déplacement valide :

Image

On souhaite écrire une fonction récursive hanoi telle que hanoi n tige1 tige2 affiche une suite de déplacements (avec des print_int) permettant de déplacer  𝑛  disques depuis tige1 vers tige2. On supposera que les tiges sont numérotées 0, 1, 2 (de gauche à droite).

Supposons que vous sachiez déplacer  𝑛−1  disques d'une tige à une autre. Comment déplacer  𝑛  disques d'une tige à une autre ?
Écrire hanoi.
print_string "Hello!"; flush stdout;;
​
- : unit = ()
3
let hanoi n=
    let rec aux tige m=
        if m=1 then (print_string "Je deplace le disque "; print_int 1; print_string " sur la tige "; print_int tige; print_endline "";)
        else (aux (3-tige) (m-1) ; print_string "Je deplace le disque "; print_int m; print_string " sur la tige "; print_int tige; print_endline "";(aux (2) (m-1));)
    in aux 2 n;;
    hanoi 3
val hanoi : int -> unit = <fun>
Je deplace le disque 1 sur la tige 2
Je deplace le disque 2 sur la tige 1
Je deplace le disque 1 sur la tige 2
Je deplace le disque 3 sur la tige 2
Je deplace le disque 1 sur la tige 1
Je deplace le disque 2 sur la tige 2
Je deplace le disque 1 sur la tige 2
- : unit = ()
​
