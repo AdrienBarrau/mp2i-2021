TP 4 : Réécriture de fonctions du module List
List est un module OCaml qui contient de nombreuses fonctions sur les listes : https://ocaml.org/api/List.html.
Dans un sujet de concours, vous avez le droit d'utiliser ces fonctions sauf si l'énoncé demande de le recoder (exemple : si l'énoncé demande de coder une fonction calculant la taille d'une liste, il est implicitement interdit d'utiliser List.length...).

List.mem
Si l est une liste, List.mem l e détermine si e est un élément de l.

Quel est le type de List.mem? Le deviner puis vérifier avec OCaml.
Réécrire List.mem (en appelant votre fonction mem, par exemple).
1.a'->list-> bool

let rec mem n l= match l with
    | []-> false
    | e::g-> if  n=e then true else mem n g  ;;
mem 1 [1;3;5;7] 
​
val mem : 'a -> 'a list -> bool = <fun>
- : bool = true
List.iter
Si l est une liste et f une fonction, List.iter f l applique f sur chaque élément de l.
Réécrire List.iter (en appelant votre fonction iter, par exemple).

let rec iter f l= match l with
    |[]->[]
    |e::q-> (f e)::(iter f q);;
let f x= 2*x in
iter f [0;1;2;3]
val iter : ('a -> 'b) -> 'a list -> 'b list = <fun>
- : int list = [0; 2; 4; 6]
List.filter
Si l : 'a list est une liste et f : 'a -> bool une propriété, List.filter f l renvoie les éléments de l vérifiant f.

Que renvoie List.filter (fun x -> x > 0) [1; -2; 3; 0] ?
Réécrire la fonction List.filter (en l'appelant filter, par exemple).
1.[1;3]

let rec filter f l= match l with
    |[]->[]
    |e::q-> if (f e) then e::(filter f q) else (filter f q);;
let f x= x>0 in
filter f [0;1;2;-3;-8]
val filter : ('a -> bool) -> 'a list -> 'a list = <fun>
- : int list = [1; 2]
List.map
Ecrire une fonction somme pour calculer la somme des termes d'une liste d'entiers.
Ecrire une fonction range telle que range n renvoie la liste des entiers de 0 à n.
List.map est une fonction telle que, si f est une fonction et l une liste, List.map f l renvoie une liste obtenue à partir de l en appliquant f sur chaque élément.
Par exemple, List.map (fun x -> 2*x) [2; 5; 42] renvoie [4; 10; 84].
Quel est le type de List.map? Le deviner puis vérifier avec OCaml.
Réécrire List.map (en appelant votre fonction map, par exemple).
Calculer  ∑10𝑘=0𝑘4  en utilisant les fonctions précédentes.
let rec somme l= match l with
    |[]-> 0
    |e::q-> e+(somme q);;
somme [0;1;2;3;4;5]
val somme : int list -> int = <fun>
- : int = 15
let rec range n=
if n=0 then [0]
else n::range(n-1);;
range 5
​
val range : int -> int list = <fun>
- : int list = [5; 4; 3; 2; 1; 0]
('a -> 'b) -> 'a list -> 'b list
let rec map f l = match l with
    |[]->[]
    |e::q-> (f e)::(map f q);;
let f x = 2*x in
map f [0;1;2;3]
val map : ('a -> 'b) -> 'a list -> 'b list = <fun>
- : int list = [0; 2; 4; 6]
somme (map (fun x->x*x*x*x) (range 10));;
​
​
- : int = 25333
List.for_all et List.exists
Si l : 'a list est une liste et f : 'a -> bool une propriété :

List.for_all f l vérifie que tous les éléments de l satisfont f ( ∀𝑒∈𝑙, 𝑓(𝑒) )
List.exists f l vérifie qu'au moins un élément de l satisfait f ( ∃𝑒∈𝑙, 𝑓(𝑒) )
let positif l=
    let f x=x>0 in
    List.for_all f l;;
positif [1;-1]
val positif : int list -> bool = <fun>
- : bool = false
En utilisant une de ces fonctions et l'application partielle de fonction, définir une fonction positif : int list -> bool testant si tous les éléments d'une liste sont positifs.
En utilisant une de ces fonctions et l'application partielle de fonction, définir une fonction pair : int list -> bool testant si il y a au moins un élément d'une liste qui est pair.
let pair =
    
    List.exists (fun x->x mod 2=0) ;;
pair [2;-1]
val pair : int list -> bool = <fun>
- : bool = true
Liste de listes
Écrire une fonction add : 'a -> 'a list list -> 'a list list telle que add e ll renvoie une liste de listes obtenues en ajoutant e à chaque liste de ll.
Par exemple, add 2 [[1; 2]; [7; 4]] doit renvoyer [[2; 1; 2]; [2; 7; 4]].
Écrire une fonction parties : 'a list -> a list list telle que parties l renvoie une liste composée de tous les sous-ensembles d'éléments de l.
Par exemple, parties [1; 2; 1] peut renvoyer [[]; [1]; [2]; [2; 1]; [1]; [1; 1]; [1; 2]; [1; 2; 1]].
Écrire une fonction decomposition telle que, si l est une liste d'entiers et n un entier, decomposition n l renvoie le nombre de façon d'écrire n comme somme d'éléments de l.
Par exemple, decomposition 6 [1; 2; 3; 5] doit renvoyer 2, car on peut écrire  6=1+2+3  et  6=1+5 .
Modifier la fonction précédente pour renvoyer la liste de toutes les possibilités (chaque possibilité étant une liste).
let rec add n l= match l with
     |[]->[]
     |e::q-> (n::e)::(add n q);;
add 5 [[9;12];[8;3];[1;2;3;4;5;6;7;8;9]]
val add : 'a -> 'a list list -> 'a list list = <fun>
- : int list list = [[5; 9; 12]; [5; 8; 3]; [5; 1; 2; 3; 4; 5; 6; 7; 8; 9]]
let rec parties l= match l with
     |[]->[[]]
     |e::q-> add e (parties q) @ parties q;;
parties [0;1;2]
     
val parties : 'a list -> 'a list list = <fun>
- : int list list = [[0; 1; 2]; [0; 1]; [0; 2]; [0]; [1; 2]; [1]; [2]; []]
(
let decomposition n l=
    let rec aux part i =
        match part with
        |[] -> i
        | e::q -> if somme e = n then aux q i+1 else aux q i
    in aux (parties l) 0;;
decomposition 6 [1; 2; 3; 5]
val decomposition : int -> int list -> int = <fun>
- : int = 2
[]
let decomposition n l=
    let rec aux part s =
        match part with
        |[] -> s
        | e::q -> if somme e = n then aux q (e::s) else aux q s
    in aux (parties l) [];;
decomposition 6 [1; 2; 3; 5]
val decomposition : int -> int list -> int list list = <fun>
- : int list list = [[1; 5]; [1; 2; 3]]
